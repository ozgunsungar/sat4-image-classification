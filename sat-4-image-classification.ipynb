{
 "cells": [
  {
   "cell_type": "code",
   "execution_count": 1,
   "id": "70793e34",
   "metadata": {
    "_cell_guid": "b1076dfc-b9ad-4769-8c92-a6c4dae69d19",
    "_uuid": "8f2839f25d086af736a60e9eeb907d3b93b6e0e5",
    "execution": {
     "iopub.execute_input": "2022-06-19T17:03:40.005518Z",
     "iopub.status.busy": "2022-06-19T17:03:40.004869Z",
     "iopub.status.idle": "2022-06-19T17:03:46.417729Z",
     "shell.execute_reply": "2022-06-19T17:03:46.416932Z"
    },
    "papermill": {
     "duration": 6.422932,
     "end_time": "2022-06-19T17:03:46.420040",
     "exception": false,
     "start_time": "2022-06-19T17:03:39.997108",
     "status": "completed"
    },
    "tags": []
   },
   "outputs": [],
   "source": [
    "import pandas as pd\n",
    "import numpy as np\n",
    "from skimage.io import imshow # visualize satellite images\n",
    "import matplotlib.pyplot as plt\n",
    "from sklearn.model_selection import train_test_split\n",
    "from keras.models import Sequential\n",
    "from keras.layers import Dense, Conv2D, MaxPooling2D, Flatten, BatchNormalization"
   ]
  },
  {
   "cell_type": "code",
   "execution_count": 2,
   "id": "4ab3e8a1",
   "metadata": {
    "execution": {
     "iopub.execute_input": "2022-06-19T17:03:46.432530Z",
     "iopub.status.busy": "2022-06-19T17:03:46.431831Z",
     "iopub.status.idle": "2022-06-19T17:03:46.436175Z",
     "shell.execute_reply": "2022-06-19T17:03:46.435346Z"
    },
    "papermill": {
     "duration": 0.012756,
     "end_time": "2022-06-19T17:03:46.438223",
     "exception": false,
     "start_time": "2022-06-19T17:03:46.425467",
     "status": "completed"
    },
    "tags": []
   },
   "outputs": [],
   "source": [
    "#Train'de çok fazla data olduğundan sadece test verileri alındı.\n",
    "X_train_fpath = \"../input/deepsat-sat4/X_test_sat4.csv\"\n",
    "y_train_fpath = \"../input/deepsat-sat4/y_test_sat4.csv\"\n",
    "# X_test_fpath = \"../input/deepsat-sat4/X_test_sat4.csv\"\n",
    "# y_test_fpath = \"../input/deepsat-sat4/y_test_sat4.csv\""
   ]
  },
  {
   "cell_type": "code",
   "execution_count": 3,
   "id": "416b9127",
   "metadata": {
    "execution": {
     "iopub.execute_input": "2022-06-19T17:03:46.449603Z",
     "iopub.status.busy": "2022-06-19T17:03:46.448948Z",
     "iopub.status.idle": "2022-06-19T17:04:42.246071Z",
     "shell.execute_reply": "2022-06-19T17:04:42.245160Z"
    },
    "papermill": {
     "duration": 55.805056,
     "end_time": "2022-06-19T17:04:42.248575",
     "exception": false,
     "start_time": "2022-06-19T17:03:46.443519",
     "status": "completed"
    },
    "tags": []
   },
   "outputs": [],
   "source": [
    "X_train = pd.read_csv(X_train_fpath)\n",
    "y_train = pd.read_csv(y_train_fpath)\n",
    "\n",
    "# # X_test = pd.read_csv(X_test_fpath)\n",
    "# # y_test = pd.read_csv(y_test_fpath)"
   ]
  },
  {
   "cell_type": "code",
   "execution_count": 4,
   "id": "709f3494",
   "metadata": {
    "execution": {
     "iopub.execute_input": "2022-06-19T17:04:42.260332Z",
     "iopub.status.busy": "2022-06-19T17:04:42.260010Z",
     "iopub.status.idle": "2022-06-19T17:04:42.267065Z",
     "shell.execute_reply": "2022-06-19T17:04:42.266312Z"
    },
    "papermill": {
     "duration": 0.015716,
     "end_time": "2022-06-19T17:04:42.269696",
     "exception": false,
     "start_time": "2022-06-19T17:04:42.253980",
     "status": "completed"
    },
    "tags": []
   },
   "outputs": [
    {
     "data": {
      "text/plain": [
       "(99999, 3136)"
      ]
     },
     "execution_count": 4,
     "metadata": {},
     "output_type": "execute_result"
    }
   ],
   "source": [
    "X_train.shape"
   ]
  },
  {
   "cell_type": "code",
   "execution_count": 5,
   "id": "5ff75845",
   "metadata": {
    "execution": {
     "iopub.execute_input": "2022-06-19T17:04:42.282145Z",
     "iopub.status.busy": "2022-06-19T17:04:42.280763Z",
     "iopub.status.idle": "2022-06-19T17:04:42.286549Z",
     "shell.execute_reply": "2022-06-19T17:04:42.285675Z"
    },
    "papermill": {
     "duration": 0.013489,
     "end_time": "2022-06-19T17:04:42.288230",
     "exception": false,
     "start_time": "2022-06-19T17:04:42.274741",
     "status": "completed"
    },
    "tags": []
   },
   "outputs": [
    {
     "data": {
      "text/plain": [
       "(99999, 4)"
      ]
     },
     "execution_count": 5,
     "metadata": {},
     "output_type": "execute_result"
    }
   ],
   "source": [
    "y_train.shape"
   ]
  },
  {
   "cell_type": "code",
   "execution_count": 6,
   "id": "f8eec4fa",
   "metadata": {
    "execution": {
     "iopub.execute_input": "2022-06-19T17:04:42.299987Z",
     "iopub.status.busy": "2022-06-19T17:04:42.299553Z",
     "iopub.status.idle": "2022-06-19T17:04:42.306494Z",
     "shell.execute_reply": "2022-06-19T17:04:42.305710Z"
    },
    "papermill": {
     "duration": 0.015093,
     "end_time": "2022-06-19T17:04:42.308335",
     "exception": false,
     "start_time": "2022-06-19T17:04:42.293242",
     "status": "completed"
    },
    "tags": []
   },
   "outputs": [
    {
     "data": {
      "text/plain": [
       "0"
      ]
     },
     "execution_count": 6,
     "metadata": {},
     "output_type": "execute_result"
    }
   ],
   "source": [
    "y_train.iloc[0][1]"
   ]
  },
  {
   "cell_type": "code",
   "execution_count": 7,
   "id": "5160e55e",
   "metadata": {
    "execution": {
     "iopub.execute_input": "2022-06-19T17:04:42.320409Z",
     "iopub.status.busy": "2022-06-19T17:04:42.319721Z",
     "iopub.status.idle": "2022-06-19T17:04:43.861323Z",
     "shell.execute_reply": "2022-06-19T17:04:43.860469Z"
    },
    "papermill": {
     "duration": 1.549782,
     "end_time": "2022-06-19T17:04:43.863316",
     "exception": false,
     "start_time": "2022-06-19T17:04:42.313534",
     "status": "completed"
    },
    "tags": []
   },
   "outputs": [],
   "source": [
    "X_train = X_train.values.reshape([X_train.shape[0],28,28,4]).astype(float)\n",
    "X_train = X_train / 255.0\n",
    "\n",
    "# X_test = X_test.values.reshape([X_test.shape[0],28,28,4]).astype(float)\n",
    "# X_test = X_test / 255.0\n"
   ]
  },
  {
   "cell_type": "code",
   "execution_count": 8,
   "id": "70dcf7c6",
   "metadata": {
    "execution": {
     "iopub.execute_input": "2022-06-19T17:04:43.875729Z",
     "iopub.status.busy": "2022-06-19T17:04:43.875406Z",
     "iopub.status.idle": "2022-06-19T17:04:43.880599Z",
     "shell.execute_reply": "2022-06-19T17:04:43.879801Z"
    },
    "papermill": {
     "duration": 0.013237,
     "end_time": "2022-06-19T17:04:43.882461",
     "exception": false,
     "start_time": "2022-06-19T17:04:43.869224",
     "status": "completed"
    },
    "tags": []
   },
   "outputs": [
    {
     "data": {
      "text/plain": [
       "(99999, 28, 28, 4)"
      ]
     },
     "execution_count": 8,
     "metadata": {},
     "output_type": "execute_result"
    }
   ],
   "source": [
    "X_train.shape"
   ]
  },
  {
   "cell_type": "code",
   "execution_count": 9,
   "id": "731669d7",
   "metadata": {
    "execution": {
     "iopub.execute_input": "2022-06-19T17:04:43.895692Z",
     "iopub.status.busy": "2022-06-19T17:04:43.894220Z",
     "iopub.status.idle": "2022-06-19T17:04:44.126219Z",
     "shell.execute_reply": "2022-06-19T17:04:44.125275Z"
    },
    "papermill": {
     "duration": 0.240371,
     "end_time": "2022-06-19T17:04:44.128390",
     "exception": false,
     "start_time": "2022-06-19T17:04:43.888019",
     "status": "completed"
    },
    "tags": []
   },
   "outputs": [
    {
     "name": "stdout",
     "output_type": "stream",
     "text": [
      "Trees\n"
     ]
    },
    {
     "data": {
      "image/png": "[encoded data removed]",
      "text/plain": [
       "<Figure size 432x288 with 1 Axes>"
      ]
     },
     "metadata": {
      "needs_background": "light"
     },
     "output_type": "display_data"
    }
   ],
   "source": [
    "index = 11\n",
    "imshow(np.squeeze(X_train[index,:,:,0:3]).astype(float))\n",
    "plt.show\n",
    "\n",
    "if y_train.iloc[index][0] == 1:\n",
    "    print ('Barren Land')\n",
    "elif y_train.iloc[index][1] == 1:\n",
    "    print ('Trees')\n",
    "elif y_train.iloc[index][2] == 1:\n",
    "    print ('Grassland')\n",
    "else:\n",
    "    print ('Other')"
   ]
  },
  {
   "cell_type": "code",
   "execution_count": 10,
   "id": "d3c521a0",
   "metadata": {
    "execution": {
     "iopub.execute_input": "2022-06-19T17:04:44.141471Z",
     "iopub.status.busy": "2022-06-19T17:04:44.140991Z",
     "iopub.status.idle": "2022-06-19T17:04:47.993654Z",
     "shell.execute_reply": "2022-06-19T17:04:47.992722Z"
    },
    "papermill": {
     "duration": 3.861741,
     "end_time": "2022-06-19T17:04:47.995917",
     "exception": false,
     "start_time": "2022-06-19T17:04:44.134176",
     "status": "completed"
    },
    "tags": []
   },
   "outputs": [],
   "source": [
    "X_train2, X_val, y_train2, y_val = train_test_split(X_train, y_train, test_size = 0.2,random_state = 0)"
   ]
  },
  {
   "cell_type": "code",
   "execution_count": 11,
   "id": "b863ae0f",
   "metadata": {
    "execution": {
     "iopub.execute_input": "2022-06-19T17:04:48.010393Z",
     "iopub.status.busy": "2022-06-19T17:04:48.010070Z",
     "iopub.status.idle": "2022-06-19T17:04:50.539855Z",
     "shell.execute_reply": "2022-06-19T17:04:50.538567Z"
    },
    "papermill": {
     "duration": 2.539491,
     "end_time": "2022-06-19T17:04:50.542098",
     "exception": false,
     "start_time": "2022-06-19T17:04:48.002607",
     "status": "completed"
    },
    "tags": []
   },
   "outputs": [
    {
     "name": "stderr",
     "output_type": "stream",
     "text": [
      "2022-06-19 17:04:48.113528: I tensorflow/stream_executor/cuda/cuda_gpu_executor.cc:937] successful NUMA node read from SysFS had negative value (-1), but there must be at least one NUMA node, so returning NUMA node zero\n",
      "2022-06-19 17:04:48.212328: I tensorflow/stream_executor/cuda/cuda_gpu_executor.cc:937] successful NUMA node read from SysFS had negative value (-1), but there must be at least one NUMA node, so returning NUMA node zero\n",
      "2022-06-19 17:04:48.213193: I tensorflow/stream_executor/cuda/cuda_gpu_executor.cc:937] successful NUMA node read from SysFS had negative value (-1), but there must be at least one NUMA node, so returning NUMA node zero\n",
      "2022-06-19 17:04:48.214432: I tensorflow/core/platform/cpu_feature_guard.cc:142] This TensorFlow binary is optimized with oneAPI Deep Neural Network Library (oneDNN) to use the following CPU instructions in performance-critical operations:  AVX2 AVX512F FMA\n",
      "To enable them in other operations, rebuild TensorFlow with the appropriate compiler flags.\n",
      "2022-06-19 17:04:48.214806: I tensorflow/stream_executor/cuda/cuda_gpu_executor.cc:937] successful NUMA node read from SysFS had negative value (-1), but there must be at least one NUMA node, so returning NUMA node zero\n",
      "2022-06-19 17:04:48.215630: I tensorflow/stream_executor/cuda/cuda_gpu_executor.cc:937] successful NUMA node read from SysFS had negative value (-1), but there must be at least one NUMA node, so returning NUMA node zero\n",
      "2022-06-19 17:04:48.216485: I tensorflow/stream_executor/cuda/cuda_gpu_executor.cc:937] successful NUMA node read from SysFS had negative value (-1), but there must be at least one NUMA node, so returning NUMA node zero\n",
      "2022-06-19 17:04:50.326834: I tensorflow/stream_executor/cuda/cuda_gpu_executor.cc:937] successful NUMA node read from SysFS had negative value (-1), but there must be at least one NUMA node, so returning NUMA node zero\n",
      "2022-06-19 17:04:50.327806: I tensorflow/stream_executor/cuda/cuda_gpu_executor.cc:937] successful NUMA node read from SysFS had negative value (-1), but there must be at least one NUMA node, so returning NUMA node zero\n",
      "2022-06-19 17:04:50.328677: I tensorflow/stream_executor/cuda/cuda_gpu_executor.cc:937] successful NUMA node read from SysFS had negative value (-1), but there must be at least one NUMA node, so returning NUMA node zero\n",
      "2022-06-19 17:04:50.329479: I tensorflow/core/common_runtime/gpu/gpu_device.cc:1510] Created device /job:localhost/replica:0/task:0/device:GPU:0 with 15403 MB memory:  -> device: 0, name: Tesla P100-PCIE-16GB, pci bus id: 0000:00:04.0, compute capability: 6.0\n"
     ]
    }
   ],
   "source": [
    "cnn = Sequential([\n",
    "  Conv2D(32, 3, activation='relu', input_shape=(28, 28, 4)),\n",
    "  Conv2D(32, 3, activation='relu'),\n",
    "  MaxPooling2D(),\n",
    "  Conv2D(32, 3, activation='relu'),\n",
    "  Conv2D(32, 3, activation='relu'),\n",
    "  MaxPooling2D(),\n",
    "  Flatten(),\n",
    "  Dense(10, activation='relu'),\n",
    "  BatchNormalization(),\n",
    "  Dense(10, activation='relu'),\n",
    "  BatchNormalization(),\n",
    "  Dense(4,activation='softmax')  \n",
    "])      "
   ]
  },
  {
   "cell_type": "code",
   "execution_count": 12,
   "id": "9515eb31",
   "metadata": {
    "execution": {
     "iopub.execute_input": "2022-06-19T17:04:50.556136Z",
     "iopub.status.busy": "2022-06-19T17:04:50.555658Z",
     "iopub.status.idle": "2022-06-19T17:04:50.569028Z",
     "shell.execute_reply": "2022-06-19T17:04:50.568277Z"
    },
    "papermill": {
     "duration": 0.022588,
     "end_time": "2022-06-19T17:04:50.571246",
     "exception": false,
     "start_time": "2022-06-19T17:04:50.548658",
     "status": "completed"
    },
    "tags": []
   },
   "outputs": [],
   "source": [
    "cnn.compile(optimizer = 'adam',loss = 'categorical_crossentropy',metrics = ['accuracy'])"
   ]
  },
  {
   "cell_type": "code",
   "execution_count": 13,
   "id": "4a6b296a",
   "metadata": {
    "execution": {
     "iopub.execute_input": "2022-06-19T17:04:50.585398Z",
     "iopub.status.busy": "2022-06-19T17:04:50.585053Z",
     "iopub.status.idle": "2022-06-19T17:14:33.601667Z",
     "shell.execute_reply": "2022-06-19T17:14:33.600837Z"
    },
    "papermill": {
     "duration": 583.025694,
     "end_time": "2022-06-19T17:14:33.603686",
     "exception": false,
     "start_time": "2022-06-19T17:04:50.577992",
     "status": "completed"
    },
    "tags": []
   },
   "outputs": [
    {
     "name": "stderr",
     "output_type": "stream",
     "text": [
      "2022-06-19 17:04:50.857089: W tensorflow/core/framework/cpu_allocator_impl.cc:80] Allocation of 1003507456 exceeds 10% of free system memory.\n",
      "2022-06-19 17:04:51.930153: W tensorflow/core/framework/cpu_allocator_impl.cc:80] Allocation of 1003507456 exceeds 10% of free system memory.\n",
      "2022-06-19 17:04:52.695086: I tensorflow/compiler/mlir/mlir_graph_optimization_pass.cc:185] None of the MLIR Optimization Passes are enabled (registered 2)\n"
     ]
    },
    {
     "name": "stdout",
     "output_type": "stream",
     "text": [
      "Epoch 1/40\n"
     ]
    },
    {
     "name": "stderr",
     "output_type": "stream",
     "text": [
      "2022-06-19 17:04:54.349650: I tensorflow/stream_executor/cuda/cuda_dnn.cc:369] Loaded cuDNN version 8005\n"
     ]
    },
    {
     "name": "stdout",
     "output_type": "stream",
     "text": [
      "2500/2500 [==============================] - ETA: 0s - loss: 0.2540 - accuracy: 0.9142"
     ]
    },
    {
     "name": "stderr",
     "output_type": "stream",
     "text": [
      "2022-06-19 17:05:12.923972: W tensorflow/core/framework/cpu_allocator_impl.cc:80] Allocation of 250880000 exceeds 10% of free system memory.\n",
      "2022-06-19 17:05:13.049909: W tensorflow/core/framework/cpu_allocator_impl.cc:80] Allocation of 250880000 exceeds 10% of free system memory.\n"
     ]
    },
    {
     "name": "stdout",
     "output_type": "stream",
     "text": [
      "2500/2500 [==============================] - 22s 6ms/step - loss: 0.2540 - accuracy: 0.9142 - val_loss: 0.4956 - val_accuracy: 0.7962\n",
      "Epoch 2/40\n",
      "2500/2500 [==============================] - 15s 6ms/step - loss: 0.1512 - accuracy: 0.9488 - val_loss: 0.3081 - val_accuracy: 0.9217\n",
      "Epoch 3/40\n",
      "2500/2500 [==============================] - 14s 6ms/step - loss: 0.1185 - accuracy: 0.9590 - val_loss: 0.5940 - val_accuracy: 0.8015\n",
      "Epoch 4/40\n",
      "2500/2500 [==============================] - 16s 6ms/step - loss: 0.1018 - accuracy: 0.9660 - val_loss: 0.1350 - val_accuracy: 0.9535\n",
      "Epoch 5/40\n",
      "2500/2500 [==============================] - 14s 6ms/step - loss: 0.0888 - accuracy: 0.9695 - val_loss: 0.8892 - val_accuracy: 0.7790\n",
      "Epoch 6/40\n",
      "2500/2500 [==============================] - 15s 6ms/step - loss: 0.0787 - accuracy: 0.9738 - val_loss: 0.2302 - val_accuracy: 0.9071\n",
      "Epoch 7/40\n",
      "2500/2500 [==============================] - 14s 6ms/step - loss: 0.0720 - accuracy: 0.9757 - val_loss: 0.2788 - val_accuracy: 0.9126\n",
      "Epoch 8/40\n",
      "2500/2500 [==============================] - 14s 6ms/step - loss: 0.0653 - accuracy: 0.9785 - val_loss: 0.1250 - val_accuracy: 0.9527\n",
      "Epoch 9/40\n",
      "2500/2500 [==============================] - 14s 6ms/step - loss: 0.0655 - accuracy: 0.9783 - val_loss: 0.1028 - val_accuracy: 0.9638\n",
      "Epoch 10/40\n",
      "2500/2500 [==============================] - 14s 6ms/step - loss: 0.0557 - accuracy: 0.9814 - val_loss: 0.0801 - val_accuracy: 0.9700\n",
      "Epoch 11/40\n",
      "2500/2500 [==============================] - 14s 6ms/step - loss: 0.0554 - accuracy: 0.9817 - val_loss: 0.2457 - val_accuracy: 0.9282\n",
      "Epoch 12/40\n",
      "2500/2500 [==============================] - 15s 6ms/step - loss: 0.0520 - accuracy: 0.9827 - val_loss: 0.0579 - val_accuracy: 0.9797\n",
      "Epoch 13/40\n",
      "2500/2500 [==============================] - 16s 6ms/step - loss: 0.0517 - accuracy: 0.9828 - val_loss: 0.1024 - val_accuracy: 0.9645\n",
      "Epoch 14/40\n",
      "2500/2500 [==============================] - 14s 6ms/step - loss: 0.0471 - accuracy: 0.9842 - val_loss: 0.2489 - val_accuracy: 0.8994\n",
      "Epoch 15/40\n",
      "2500/2500 [==============================] - 15s 6ms/step - loss: 0.0457 - accuracy: 0.9850 - val_loss: 0.2433 - val_accuracy: 0.9413\n",
      "Epoch 16/40\n",
      "2500/2500 [==============================] - 14s 6ms/step - loss: 0.0419 - accuracy: 0.9859 - val_loss: 0.2578 - val_accuracy: 0.9157\n",
      "Epoch 17/40\n",
      "2500/2500 [==============================] - 14s 6ms/step - loss: 0.0429 - accuracy: 0.9857 - val_loss: 0.0530 - val_accuracy: 0.9802\n",
      "Epoch 18/40\n",
      "2500/2500 [==============================] - 14s 6ms/step - loss: 0.0385 - accuracy: 0.9873 - val_loss: 0.1119 - val_accuracy: 0.9574\n",
      "Epoch 19/40\n",
      "2500/2500 [==============================] - 14s 6ms/step - loss: 0.0406 - accuracy: 0.9861 - val_loss: 0.1382 - val_accuracy: 0.9517\n",
      "Epoch 20/40\n",
      "2500/2500 [==============================] - 15s 6ms/step - loss: 0.0396 - accuracy: 0.9867 - val_loss: 0.1094 - val_accuracy: 0.9531\n",
      "Epoch 21/40\n",
      "2500/2500 [==============================] - 14s 6ms/step - loss: 0.0334 - accuracy: 0.9887 - val_loss: 0.0472 - val_accuracy: 0.9826\n",
      "Epoch 22/40\n",
      "2500/2500 [==============================] - 14s 6ms/step - loss: 0.0355 - accuracy: 0.9884 - val_loss: 0.0389 - val_accuracy: 0.9866\n",
      "Epoch 23/40\n",
      "2500/2500 [==============================] - 14s 6ms/step - loss: 0.0320 - accuracy: 0.9891 - val_loss: 0.0357 - val_accuracy: 0.9877\n",
      "Epoch 24/40\n",
      "2500/2500 [==============================] - 14s 5ms/step - loss: 0.0310 - accuracy: 0.9898 - val_loss: 0.0356 - val_accuracy: 0.9882\n",
      "Epoch 25/40\n",
      "2500/2500 [==============================] - 14s 6ms/step - loss: 0.0316 - accuracy: 0.9895 - val_loss: 0.0919 - val_accuracy: 0.9677\n",
      "Epoch 26/40\n",
      "2500/2500 [==============================] - 14s 6ms/step - loss: 0.0287 - accuracy: 0.9903 - val_loss: 0.1257 - val_accuracy: 0.9542\n",
      "Epoch 27/40\n",
      "2500/2500 [==============================] - 15s 6ms/step - loss: 0.0299 - accuracy: 0.9900 - val_loss: 0.0834 - val_accuracy: 0.9710\n",
      "Epoch 28/40\n",
      "2500/2500 [==============================] - 14s 6ms/step - loss: 0.0266 - accuracy: 0.9912 - val_loss: 0.1002 - val_accuracy: 0.9645\n",
      "Epoch 29/40\n",
      "2500/2500 [==============================] - 14s 6ms/step - loss: 0.0284 - accuracy: 0.9903 - val_loss: 0.0432 - val_accuracy: 0.9862\n",
      "Epoch 30/40\n",
      "2500/2500 [==============================] - 14s 6ms/step - loss: 0.0268 - accuracy: 0.9912 - val_loss: 0.0264 - val_accuracy: 0.9909\n",
      "Epoch 31/40\n",
      "2500/2500 [==============================] - 15s 6ms/step - loss: 0.0253 - accuracy: 0.9915 - val_loss: 0.0329 - val_accuracy: 0.9895\n",
      "Epoch 32/40\n",
      "2500/2500 [==============================] - 14s 6ms/step - loss: 0.0249 - accuracy: 0.9918 - val_loss: 0.0299 - val_accuracy: 0.9901\n",
      "Epoch 33/40\n",
      "2500/2500 [==============================] - 14s 6ms/step - loss: 0.0254 - accuracy: 0.9913 - val_loss: 0.0248 - val_accuracy: 0.9922\n",
      "Epoch 34/40\n",
      "2500/2500 [==============================] - 15s 6ms/step - loss: 0.0234 - accuracy: 0.9922 - val_loss: 0.0281 - val_accuracy: 0.9906\n",
      "Epoch 35/40\n",
      "2500/2500 [==============================] - 14s 5ms/step - loss: 0.0242 - accuracy: 0.9917 - val_loss: 0.0593 - val_accuracy: 0.9793\n",
      "Epoch 36/40\n",
      "2500/2500 [==============================] - 14s 6ms/step - loss: 0.0225 - accuracy: 0.9925 - val_loss: 0.0818 - val_accuracy: 0.9728\n",
      "Epoch 37/40\n",
      "2500/2500 [==============================] - 14s 6ms/step - loss: 0.0210 - accuracy: 0.9926 - val_loss: 0.1576 - val_accuracy: 0.9585\n",
      "Epoch 38/40\n",
      "2500/2500 [==============================] - 14s 6ms/step - loss: 0.0212 - accuracy: 0.9929 - val_loss: 0.0288 - val_accuracy: 0.9898\n",
      "Epoch 39/40\n",
      "2500/2500 [==============================] - 14s 6ms/step - loss: 0.0203 - accuracy: 0.9931 - val_loss: 0.1018 - val_accuracy: 0.9664\n",
      "Epoch 40/40\n",
      "2500/2500 [==============================] - 14s 6ms/step - loss: 0.0202 - accuracy: 0.9932 - val_loss: 0.1247 - val_accuracy: 0.9588\n"
     ]
    }
   ],
   "source": [
    "history = cnn.fit(X_train2,y_train2,batch_size=32,epochs=40,validation_data=(X_val,y_val))"
   ]
  },
  {
   "cell_type": "code",
   "execution_count": 14,
   "id": "613e4369",
   "metadata": {
    "execution": {
     "iopub.execute_input": "2022-06-19T17:14:34.856763Z",
     "iopub.status.busy": "2022-06-19T17:14:34.855943Z",
     "iopub.status.idle": "2022-06-19T17:14:36.848532Z",
     "shell.execute_reply": "2022-06-19T17:14:36.847708Z"
    },
    "papermill": {
     "duration": 2.599766,
     "end_time": "2022-06-19T17:14:36.850944",
     "exception": false,
     "start_time": "2022-06-19T17:14:34.251178",
     "status": "completed"
    },
    "tags": []
   },
   "outputs": [
    {
     "name": "stderr",
     "output_type": "stream",
     "text": [
      "2022-06-19 17:14:35.455799: W tensorflow/python/util/util.cc:348] Sets are not currently considered sequences, but this may change in the future, so consider avoiding using them.\n"
     ]
    }
   ],
   "source": [
    "cnn.save('./')"
   ]
  },
  {
   "cell_type": "code",
   "execution_count": 15,
   "id": "6fd89a68",
   "metadata": {
    "execution": {
     "iopub.execute_input": "2022-06-19T17:14:38.099562Z",
     "iopub.status.busy": "2022-06-19T17:14:38.099098Z",
     "iopub.status.idle": "2022-06-19T17:14:38.476409Z",
     "shell.execute_reply": "2022-06-19T17:14:38.475687Z"
    },
    "papermill": {
     "duration": 0.984633,
     "end_time": "2022-06-19T17:14:38.478312",
     "exception": false,
     "start_time": "2022-06-19T17:14:37.493679",
     "status": "completed"
    },
    "tags": []
   },
   "outputs": [
    {
     "data": {
      "image/png": "[encoded data removed]",
      "text/plain": [
       "<Figure size 432x288 with 1 Axes>"
      ]
     },
     "metadata": {
      "needs_background": "light"
     },
     "output_type": "display_data"
    },
    {
     "data": {
      "image/png": "[encoded data removed]",
      "text/plain": [
       "<Figure size 432x288 with 1 Axes>"
      ]
     },
     "metadata": {
      "needs_background": "light"
     },
     "output_type": "display_data"
    }
   ],
   "source": [
    "plt.plot(history.history['accuracy'])\n",
    "plt.plot(history.history['val_accuracy'])\n",
    "plt.title('Model accuracy')\n",
    "plt.ylabel('Accuracy')\n",
    "plt.xlabel('Epoch')\n",
    "plt.legend(['Train', 'Validation'], loc='upper left')\n",
    "plt.show()\n",
    "# Plot training & validation loss values\n",
    "plt.plot(history.history['loss'])\n",
    "plt.plot(history.history['val_loss'])\n",
    "plt.title('Model loss')\n",
    "plt.ylabel('Loss')\n",
    "plt.xlabel('Epoch')\n",
    "plt.legend(['Train', 'Validation'], loc='upper left')\n",
    "plt.show()"
   ]
  },
  {
   "cell_type": "code",
   "execution_count": 16,
   "id": "a7fe3d4d",
   "metadata": {
    "execution": {
     "iopub.execute_input": "2022-06-19T17:14:39.732964Z",
     "iopub.status.busy": "2022-06-19T17:14:39.732414Z",
     "iopub.status.idle": "2022-06-19T17:14:54.056669Z",
     "shell.execute_reply": "2022-06-19T17:14:54.055148Z"
    },
    "papermill": {
     "duration": 14.9324,
     "end_time": "2022-06-19T17:14:54.058492",
     "exception": false,
     "start_time": "2022-06-19T17:14:39.126092",
     "status": "completed"
    },
    "tags": []
   },
   "outputs": [
    {
     "name": "stderr",
     "output_type": "stream",
     "text": [
      "2022-06-19 17:14:40.136801: W tensorflow/core/framework/cpu_allocator_impl.cc:80] Allocation of 1003507456 exceeds 10% of free system memory.\n"
     ]
    },
    {
     "name": "stdout",
     "output_type": "stream",
     "text": [
      "Train: 0.962, Test: 0.959\n"
     ]
    }
   ],
   "source": [
    "# evaluate the model\n",
    "_, train_acc = cnn.evaluate(X_train2,y_train2, verbose=0)\n",
    "_, test_acc = cnn.evaluate(X_val,y_val, verbose=0)\n",
    "print('Train: %.3f, Test: %.3f' % (train_acc, test_acc))"
   ]
  },
  {
   "cell_type": "code",
   "execution_count": 17,
   "id": "a7be49d5",
   "metadata": {
    "execution": {
     "iopub.execute_input": "2022-06-19T17:14:55.320981Z",
     "iopub.status.busy": "2022-06-19T17:14:55.320405Z",
     "iopub.status.idle": "2022-06-19T17:14:56.891408Z",
     "shell.execute_reply": "2022-06-19T17:14:56.890546Z"
    },
    "papermill": {
     "duration": 2.181656,
     "end_time": "2022-06-19T17:14:56.893752",
     "exception": false,
     "start_time": "2022-06-19T17:14:54.712096",
     "status": "completed"
    },
    "tags": []
   },
   "outputs": [],
   "source": [
    "predictions = cnn.predict(X_val)"
   ]
  },
  {
   "cell_type": "code",
   "execution_count": 18,
   "id": "ff455649",
   "metadata": {
    "execution": {
     "iopub.execute_input": "2022-06-19T17:14:58.153497Z",
     "iopub.status.busy": "2022-06-19T17:14:58.152982Z",
     "iopub.status.idle": "2022-06-19T17:14:58.158666Z",
     "shell.execute_reply": "2022-06-19T17:14:58.157959Z"
    },
    "papermill": {
     "duration": 0.663522,
     "end_time": "2022-06-19T17:14:58.161166",
     "exception": false,
     "start_time": "2022-06-19T17:14:57.497644",
     "status": "completed"
    },
    "tags": []
   },
   "outputs": [
    {
     "data": {
      "text/plain": [
       "(20000, 4)"
      ]
     },
     "execution_count": 18,
     "metadata": {},
     "output_type": "execute_result"
    }
   ],
   "source": [
    "y_val.shape"
   ]
  },
  {
   "cell_type": "code",
   "execution_count": 19,
   "id": "38113f87",
   "metadata": {
    "execution": {
     "iopub.execute_input": "2022-06-19T17:14:59.410284Z",
     "iopub.status.busy": "2022-06-19T17:14:59.409591Z",
     "iopub.status.idle": "2022-06-19T17:14:59.780716Z",
     "shell.execute_reply": "2022-06-19T17:14:59.779827Z"
    },
    "papermill": {
     "duration": 1.021148,
     "end_time": "2022-06-19T17:14:59.782755",
     "exception": false,
     "start_time": "2022-06-19T17:14:58.761607",
     "status": "completed"
    },
    "tags": []
   },
   "outputs": [
    {
     "name": "stdout",
     "output_type": "stream",
     "text": [
      "0.9586\n",
      "0.9589836\n"
     ]
    }
   ],
   "source": [
    "import tensorflow as tf\n",
    "recall = tf.keras.metrics.Recall()\n",
    "recall.update_state(y_val,predictions) #y_true,y_pred\n",
    "rec=recall.result().numpy()\n",
    "print(rec)\n",
    "precision = tf.keras.metrics.Precision()\n",
    "precision.update_state(y_val,predictions)\n",
    "prec=precision.result().numpy()\n",
    "print(prec)"
   ]
  },
  {
   "cell_type": "code",
   "execution_count": 20,
   "id": "d9d6fb77",
   "metadata": {
    "execution": {
     "iopub.execute_input": "2022-06-19T17:15:01.035086Z",
     "iopub.status.busy": "2022-06-19T17:15:01.034722Z",
     "iopub.status.idle": "2022-06-19T17:15:01.039470Z",
     "shell.execute_reply": "2022-06-19T17:15:01.038691Z"
    },
    "papermill": {
     "duration": 0.621334,
     "end_time": "2022-06-19T17:15:01.042186",
     "exception": false,
     "start_time": "2022-06-19T17:15:00.420852",
     "status": "completed"
    },
    "tags": []
   },
   "outputs": [
    {
     "name": "stdout",
     "output_type": "stream",
     "text": [
      "0.9587917327880859\n"
     ]
    }
   ],
   "source": [
    "f1 = 2 * ((prec * rec) / ( prec + rec ))\n",
    "print(f1)"
   ]
  }
 ],
 "metadata": {
  "kernelspec": {
   "display_name": "Python 3",
   "language": "python",
   "name": "python3"
  },
  "language_info": {
   "codemirror_mode": {
    "name": "ipython",
    "version": 3
   },
   "file_extension": ".py",
   "mimetype": "text/x-python",
   "name": "python",
   "nbconvert_exporter": "python",
   "pygments_lexer": "ipython3",
   "version": "3.7.12"
  },
  "papermill": {
   "default_parameters": {},
   "duration": 692.788896,
   "end_time": "2022-06-19T17:15:04.653880",
   "environment_variables": {},
   "exception": null,
   "input_path": "__notebook__.ipynb",
   "output_path": "__notebook__.ipynb",
   "parameters": {},
   "start_time": "2022-06-19T17:03:31.864984",
   "version": "2.3.4"
  }
 },
 "nbformat": 4,
 "nbformat_minor": 5
}
